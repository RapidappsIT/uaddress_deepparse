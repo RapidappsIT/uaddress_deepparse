{
  "cells": [
    {
      "cell_type": "markdown",
      "metadata": {
        "id": "L26Uk4VaOfvj"
      },
      "source": [
        "# Import repository"
      ]
    },
    {
      "cell_type": "code",
      "execution_count": null,
      "metadata": {
        "id": "cicHl28bOi3u"
      },
      "outputs": [],
      "source": [
        "!git clone https://github.com/RapidappsIT/uaddress_deepparse.git"
      ]
    },
    {
      "cell_type": "markdown",
      "metadata": {
        "id": "7ZO6Cwg3O39J"
      },
      "source": [
        "# Install dependencies"
      ]
    },
    {
      "cell_type": "code",
      "execution_count": null,
      "metadata": {
        "id": "PZtF9_2qO4RC"
      },
      "outputs": [],
      "source": [
        "%cd uaddress_deepparse\n",
        "!pip install -r requirements.txt"
      ]
    },
    {
      "cell_type": "markdown",
      "metadata": {
        "id": "TMKHUI1zQROM"
      },
      "source": [
        "# Model training (Bpemb)"
      ]
    },
    {
      "cell_type": "code",
      "execution_count": null,
      "metadata": {
        "id": "y_dqh2LmQbdy"
      },
      "outputs": [],
      "source": [
        "!python train.py"
      ]
    },
    {
      "cell_type": "markdown",
      "metadata": {
        "id": "hhV17196TUy-"
      },
      "source": [
        "# Model training (Fasttext)"
      ]
    },
    {
      "cell_type": "code",
      "execution_count": null,
      "metadata": {
        "id": "tSTfbSLGTYL3"
      },
      "outputs": [],
      "source": [
        "import os\n",
        "from deepparse.dataset_container import CSVDatasetContainer\n",
        "from deepparse.parser import AddressParser\n",
        "\n",
        "os.system('rm -rf checkpoints')\n",
        "os.system('clear')\n",
        "\n",
        "print(\"#\" * 50)\n",
        "print(\"# Model training ...\")\n",
        "print(\"#\" * 50)\n",
        "\n",
        "saving_dir = \"./data\"\n",
        "file_extension = \"csv\"\n",
        "training_dataset_name = \"data\"\n",
        "test_dataset_name = \"test\"\n",
        "\n",
        "training_container = CSVDatasetContainer(\n",
        "    os.path.join(saving_dir, training_dataset_name + \".\" + file_extension),\n",
        "    column_names=[\"Address\", \"Tags\"],\n",
        "    separator=\";\",\n",
        ")\n",
        "\n",
        "test_container = CSVDatasetContainer(\n",
        "    os.path.join(saving_dir, test_dataset_name + \".\" + file_extension),\n",
        "    column_names=[\"Address\", \"Tags\"],\n",
        "    separator=\";\",\n",
        ")\n",
        "\n",
        "tag_dictionary = {\n",
        "    'Country': 0,\n",
        "    'RegionType': 1,\n",
        "    'Region': 2,\n",
        "    'CountyType': 3,\n",
        "    'County': 4,\n",
        "    'SubLocalityType': 5,\n",
        "    'SubLocality': 6,\n",
        "    'LocalityType': 7,\n",
        "    'Locality': 8,\n",
        "    'StreetType': 9,\n",
        "    'Street': 10,\n",
        "    'HousingType': 11,\n",
        "    'Housing': 12,\n",
        "    'HostelType': 13,\n",
        "    'Hostel': 14,\n",
        "    'HouseNumberType': 15,\n",
        "    'HouseNumber': 16,\n",
        "    'HouseNumberAdditionally': 17,\n",
        "    'SectionType': 18,\n",
        "    'Section': 19,\n",
        "    'ApartmentType': 20,\n",
        "    'Apartment': 21,\n",
        "    'RoomType': 22,\n",
        "    'Room': 23,\n",
        "    'Sector': 24,\n",
        "    'EntranceType': 25,\n",
        "    'Entrance': 26,\n",
        "    'FloorType': 27,\n",
        "    'Floor': 28,\n",
        "    'PostCode': 29,\n",
        "    'Manually': 30,\n",
        "    'NotAddress': 31,\n",
        "    'Comment': 32,\n",
        "    'AdditionalData': 33,\n",
        "    'EOS': 34\n",
        "}\n",
        "\n",
        "address_parser = AddressParser(\n",
        "    model_type=\"fasttext\",\n",
        "    device=0,\n",
        "    attention_mechanism=True\n",
        ")\n",
        "\n",
        "address_parser.retrain(\n",
        "    training_container,\n",
        "    train_ratio=0.8,\n",
        "    epochs=150,\n",
        "    batch_size=16,\n",
        "    num_workers=2,\n",
        "    prediction_tags=tag_dictionary\n",
        ")\n",
        "\n",
        "address_parser.test(test_container, batch_size=256)\n",
        "\n",
        "os.system('cp checkpoints/retrained_fasttext_attention_address_parser.ckpt data/uaddress_fasttext.ckpt')"
      ]
    },
    {
      "cell_type": "markdown",
      "metadata": {
        "id": "85f3A11lRI6h"
      },
      "source": [
        "# Parsed address (Bpemb)"
      ]
    },
    {
      "cell_type": "code",
      "execution_count": null,
      "metadata": {
        "id": "y2C5l_R5RLxk"
      },
      "outputs": [],
      "source": [
        "!python example.py"
      ]
    },
    {
      "cell_type": "markdown",
      "metadata": {
        "id": "5i1vOBeLTKjD"
      },
      "source": [
        "# Parsed address (Fasttext)"
      ]
    },
    {
      "cell_type": "code",
      "execution_count": null,
      "metadata": {
        "colab": {
          "base_uri": "https://localhost:8080/"
        },
        "id": "KMTJmwvTgDFg",
        "outputId": "970a5c73-1b98-455a-86fb-c07c5b49ead6"
      },
      "outputs": [],
      "source": [
        "%cd uaaddress_deepparse"
      ]
    },
    {
      "cell_type": "code",
      "execution_count": null,
      "metadata": {
        "id": "Pf4Uj0C-TN2E"
      },
      "outputs": [],
      "source": [
        "from deepparse.parser import AddressParser\n",
        "import improver\n",
        "import os\n",
        "\n",
        "os.system('clear')\n",
        "\n",
        "print(\"#\" * 50)\n",
        "print(\"# Address parsing ...\")\n",
        "print(\"#\" * 50)\n",
        "\n",
        "address_parser = AddressParser(\n",
        "    device=0,\n",
        "    model_type=\"fasttext\", \n",
        "    attention_mechanism=True,\n",
        "    path_to_retrained_model=\"./data/uaddress_fasttext.ckpt\"\n",
        ")\n",
        "\n",
        "while True:\n",
        "    address = input(\"Enter address: \")\n",
        "\n",
        "    parse = address_parser(\n",
        "        improver.improve_address(address)\n",
        "    )\n",
        "\n",
        "    parsed = parse.to_dict()\n",
        "    print(parse)\n",
        "\n",
        "    print(\"#\" * 67)\n",
        "    print(\"# {!s:30} | {!s:30} #\".format('Label', 'String'))\n",
        "    print(\"#\" * 67)\n",
        "\n",
        "    for label, str in parsed.items():\n",
        "\n",
        "        print(\"| {!s:30} | {!s:30} |\".format(label, str))\n",
        "\n",
        "    print(\"#\" * 67)\n",
        "\n",
        "        \n"
      ]
    }
  ],
  "metadata": {
    "accelerator": "GPU",
    "colab": {
      "collapsed_sections": [
        "L26Uk4VaOfvj",
        "7ZO6Cwg3O39J",
        "TMKHUI1zQROM"
      ],
      "provenance": [],
      "toc_visible": true
    },
    "gpuClass": "standard",
    "kernelspec": {
      "display_name": "Python 3",
      "name": "python3"
    },
    "language_info": {
      "name": "python"
    }
  },
  "nbformat": 4,
  "nbformat_minor": 0
}
